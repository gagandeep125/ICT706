{
 "cells": [
  {
   "cell_type": "code",
   "execution_count": 1,
   "metadata": {},
   "outputs": [
    {
     "data": {
      "text/html": [
       "<style>\n",
       "    table {float:left}\n",
       "    td {\n",
       "  font-size: 14px\n",
       "}\n",
       "</style>"
      ],
      "text/plain": [
       "<IPython.core.display.HTML object>"
      ]
     },
     "metadata": {},
     "output_type": "display_data"
    }
   ],
   "source": [
    "%%html\n",
    "<style>\n",
    "    table {float:left}\n",
    "    td {\n",
    "  font-size: 14px\n",
    "}\n",
    "</style>"
   ]
  },
  {
   "cell_type": "markdown",
   "metadata": {},
   "source": [
    "# ICT706 SouthBank 2020 Semester 1 Task 3 - Exam\n",
    "\n",
    "## Instructions\n",
    "##### Follow all the instructions in this notebook to complete these tasks. \n",
    "\n",
    "##### This exam is time limited by 4 hours and is available at 1pm and must be completed and uploaded by 5pm on the day of exam (9th June 2020)\n",
    "\n",
    "##### You will need a machine with JupyterLab installed.\n"
   ]
  },
  {
   "cell_type": "markdown",
   "metadata": {},
   "source": [
    "### Student Information\n",
    "\n",
    "Please fill in your SURNAME=\"\", NAME=\"\" and ID=\"\" in the following cell\n"
   ]
  },
  {
   "cell_type": "code",
   "execution_count": 2,
   "metadata": {},
   "outputs": [],
   "source": [
    "SURNAME= \"KAUR\"\n",
    "NAME=\"GAGANDEEP\"\n",
    "ID=\"1121869\" "
   ]
  },
  {
   "cell_type": "markdown",
   "metadata": {},
   "source": [
    "### Answers\n",
    "##### Answers cells are provided underneath each of the questions.\n",
    "##### There are two types:\n",
    "\n",
    "##### 1. Raw Answer (example question X, part a)"
   ]
  },
  {
   "cell_type": "raw",
   "metadata": {},
   "source": [
    "Xa) Your answer goes here "
   ]
  },
  {
   "cell_type": "markdown",
   "metadata": {},
   "source": [
    "##### 2. Code Answer"
   ]
  },
  {
   "cell_type": "code",
   "execution_count": 3,
   "metadata": {},
   "outputs": [
    {
     "name": "stdout",
     "output_type": "stream",
     "text": [
      "Your code goes here\n"
     ]
    }
   ],
   "source": [
    "#Xa) \n",
    "print(\"Your code goes here\") "
   ]
  },
  {
   "cell_type": "markdown",
   "metadata": {},
   "source": [
    "### Submission\n",
    "\n",
    "#### This exam is time limited by 4 hours and must be uploaded by 5pm on the day of exam (9th June 2020)\n",
    "\n",
    "##### When you have finished, this notebook is the only file that you will need to submit to Blackboard.\n",
    "\n",
    "##### Before you turn this exam in, make sure everything runs as expected. \n",
    "\n",
    "##### First, restart the kernel (in the menubar, select Kernel →→ Restart) and then run all cells (in the menubar, select Cell →→ Run All).\n"
   ]
  },
  {
   "cell_type": "markdown",
   "metadata": {},
   "source": [
    "### Examiners Use Only\n",
    "###### The following cells are examiners use only"
   ]
  },
  {
   "cell_type": "raw",
   "metadata": {},
   "source": [
    "(1) []/[10]  (2) []/[10]  (3) []/[10]  (4) []/[20]  (5) []/[15]  (6) []/[15]  (7) []/[20]"
   ]
  },
  {
   "cell_type": "raw",
   "metadata": {},
   "source": [
    "TOTAL: []/[100]"
   ]
  },
  {
   "cell_type": "markdown",
   "metadata": {},
   "source": [
    "# EXAM BEGIN"
   ]
  },
  {
   "cell_type": "markdown",
   "metadata": {},
   "source": [
    "# Question 1: Practical Python [10 marks]\n",
    "\n",
    "#### Part A: For each of the following tasks, what Python library would you recommend?\n",
    "\n",
    "##### a) Doing statistical analysis on a table of sales data? "
   ]
  },
  {
   "cell_type": "raw",
   "metadata": {},
   "source": [
    "(1a):sklearn, pandas, matplotlib"
   ]
  },
  {
   "cell_type": "markdown",
   "metadata": {},
   "source": [
    "##### b) Drawing custom graphs to visualise customer satisfaction rates?"
   ]
  },
  {
   "cell_type": "raw",
   "metadata": {},
   "source": [
    "(1b):matplotlib"
   ]
  },
  {
   "cell_type": "markdown",
   "metadata": {},
   "source": [
    "##### c) Using a clustering algorithm to group customers into similar groups? "
   ]
  },
  {
   "cell_type": "raw",
   "metadata": {},
   "source": [
    "(1c):KMeans from sklearn.clusters"
   ]
  },
  {
   "cell_type": "markdown",
   "metadata": {},
   "source": [
    "##### d) Read an Excel spreadsheet to extract and clean a dataset?"
   ]
  },
  {
   "cell_type": "raw",
   "metadata": {},
   "source": [
    "(1d):import pandas as pd\n",
    "read= pd.read_csv(\"filename.csv\")"
   ]
  },
  {
   "cell_type": "markdown",
   "metadata": {},
   "source": [
    "##### e) Building a machine learning model to predict expected travel costs?"
   ]
  },
  {
   "cell_type": "raw",
   "metadata": {},
   "source": [
    "(1e):from sklearn.linear_model import LinearRegression"
   ]
  },
  {
   "cell_type": "markdown",
   "metadata": {},
   "source": [
    "#### PART B Given the Python list abc=[2, 3, 5, 7, 11, 13, 1], write the answer that will result from evaluating each of the following expressions:\n"
   ]
  },
  {
   "cell_type": "markdown",
   "metadata": {},
   "source": [
    "##### f) abc[1]"
   ]
  },
  {
   "cell_type": "raw",
   "metadata": {},
   "source": [
    "(1f):3"
   ]
  },
  {
   "cell_type": "markdown",
   "metadata": {},
   "source": [
    "##### g) abc[-1]"
   ]
  },
  {
   "cell_type": "raw",
   "metadata": {},
   "source": [
    "(1g): 1"
   ]
  },
  {
   "cell_type": "markdown",
   "metadata": {},
   "source": [
    "#####  h) abc[2:4]"
   ]
  },
  {
   "cell_type": "raw",
   "metadata": {},
   "source": [
    "(1h):[5,7]\n"
   ]
  },
  {
   "cell_type": "markdown",
   "metadata": {},
   "source": [
    "##### i) len(abc)"
   ]
  },
  {
   "cell_type": "raw",
   "metadata": {},
   "source": [
    "(1i):7"
   ]
  },
  {
   "cell_type": "markdown",
   "metadata": {},
   "source": [
    "##### j) sum(abc)"
   ]
  },
  {
   "cell_type": "raw",
   "metadata": {},
   "source": [
    "(1j):42"
   ]
  },
  {
   "cell_type": "markdown",
   "metadata": {},
   "source": [
    "# Question 2: Pandas Proficiency [10 marks]\n",
    "\n",
    "##### We are using Pandas to analyse the IRIS dataset.   \n",
    "##### Run the code in the following cell to import the data."
   ]
  },
  {
   "cell_type": "code",
   "execution_count": 6,
   "metadata": {},
   "outputs": [
    {
     "data": {
      "text/html": [
       "<div>\n",
       "<style scoped>\n",
       "    .dataframe tbody tr th:only-of-type {\n",
       "        vertical-align: middle;\n",
       "    }\n",
       "\n",
       "    .dataframe tbody tr th {\n",
       "        vertical-align: top;\n",
       "    }\n",
       "\n",
       "    .dataframe thead th {\n",
       "        text-align: right;\n",
       "    }\n",
       "</style>\n",
       "<table border=\"1\" class=\"dataframe\">\n",
       "  <thead>\n",
       "    <tr style=\"text-align: right;\">\n",
       "      <th></th>\n",
       "      <th>sepal.length</th>\n",
       "      <th>sepal.width</th>\n",
       "      <th>petal.length</th>\n",
       "      <th>petal.width</th>\n",
       "      <th>variety</th>\n",
       "    </tr>\n",
       "  </thead>\n",
       "  <tbody>\n",
       "    <tr>\n",
       "      <th>0</th>\n",
       "      <td>5.1</td>\n",
       "      <td>3.5</td>\n",
       "      <td>1.4</td>\n",
       "      <td>0.2</td>\n",
       "      <td>Setosa</td>\n",
       "    </tr>\n",
       "    <tr>\n",
       "      <th>1</th>\n",
       "      <td>4.9</td>\n",
       "      <td>3.0</td>\n",
       "      <td>1.4</td>\n",
       "      <td>0.2</td>\n",
       "      <td>Setosa</td>\n",
       "    </tr>\n",
       "    <tr>\n",
       "      <th>2</th>\n",
       "      <td>4.7</td>\n",
       "      <td>3.2</td>\n",
       "      <td>1.3</td>\n",
       "      <td>0.2</td>\n",
       "      <td>Setosa</td>\n",
       "    </tr>\n",
       "    <tr>\n",
       "      <th>3</th>\n",
       "      <td>4.6</td>\n",
       "      <td>3.1</td>\n",
       "      <td>1.5</td>\n",
       "      <td>0.2</td>\n",
       "      <td>Setosa</td>\n",
       "    </tr>\n",
       "    <tr>\n",
       "      <th>4</th>\n",
       "      <td>5.0</td>\n",
       "      <td>3.6</td>\n",
       "      <td>1.4</td>\n",
       "      <td>0.2</td>\n",
       "      <td>Setosa</td>\n",
       "    </tr>\n",
       "  </tbody>\n",
       "</table>\n",
       "</div>"
      ],
      "text/plain": [
       "   sepal.length  sepal.width  petal.length  petal.width variety\n",
       "0           5.1          3.5           1.4          0.2  Setosa\n",
       "1           4.9          3.0           1.4          0.2  Setosa\n",
       "2           4.7          3.2           1.3          0.2  Setosa\n",
       "3           4.6          3.1           1.5          0.2  Setosa\n",
       "4           5.0          3.6           1.4          0.2  Setosa"
      ]
     },
     "execution_count": 6,
     "metadata": {},
     "output_type": "execute_result"
    }
   ],
   "source": [
    "import pandas as pd\n",
    "\n",
    "iris_csv = \"https://damskii.github.io/ICT706-dataset/iris.csv\"\n",
    "df = pd.read_csv(iris_csv)\n",
    "df.head()"
   ]
  },
  {
   "cell_type": "markdown",
   "metadata": {},
   "source": [
    "##### The CSV file containing all the data has been loaded into a Pandas DataFrame called 'df'. \n",
    "##### You should see the head() of the file above if it has imported correctly.\n",
    "##### Write a Pandas expression that will:"
   ]
  },
  {
   "cell_type": "markdown",
   "metadata": {},
   "source": [
    "##### a) Calculate the average of the SepalLength."
   ]
  },
  {
   "cell_type": "code",
   "execution_count": 8,
   "metadata": {},
   "outputs": [
    {
     "data": {
      "text/plain": [
       "5.843333333333334"
      ]
     },
     "execution_count": 8,
     "metadata": {},
     "output_type": "execute_result"
    }
   ],
   "source": [
    "#(2a): \n",
    "df[\"sepal.length\"].mean()"
   ]
  },
  {
   "cell_type": "markdown",
   "metadata": {},
   "source": [
    "##### b) Calculate the lowest and highest widths for SepalWidth.  (Hint: you can return them as a pair of numbers)."
   ]
  },
  {
   "cell_type": "code",
   "execution_count": 12,
   "metadata": {},
   "outputs": [
    {
     "data": {
      "text/plain": [
       "max    4.4\n",
       "min    2.0\n",
       "Name: sepal.width, dtype: float64"
      ]
     },
     "execution_count": 12,
     "metadata": {},
     "output_type": "execute_result"
    }
   ],
   "source": [
    "#(2b)\n",
    "df[\"sepal.width\"].agg([\"max\",\"min\"])"
   ]
  },
  {
   "cell_type": "markdown",
   "metadata": {},
   "source": [
    "##### c) Calculate standard deviation of the PetalLength."
   ]
  },
  {
   "cell_type": "code",
   "execution_count": 14,
   "metadata": {},
   "outputs": [
    {
     "data": {
      "text/plain": [
       "1.7652982332594662"
      ]
     },
     "execution_count": 14,
     "metadata": {},
     "output_type": "execute_result"
    }
   ],
   "source": [
    "#(2c): \n",
    "df[\"petal.length\"].std()"
   ]
  },
  {
   "cell_type": "markdown",
   "metadata": {},
   "source": [
    "##### d) Calculate the number of records where the SepalLength is greater than 6.0"
   ]
  },
  {
   "cell_type": "code",
   "execution_count": 17,
   "metadata": {},
   "outputs": [
    {
     "data": {
      "text/plain": [
       "61"
      ]
     },
     "execution_count": 17,
     "metadata": {},
     "output_type": "execute_result"
    }
   ],
   "source": [
    "#(2d):\n",
    "df[df[\"sepal.length\"]>6.0][\"sepal.length\"].count()"
   ]
  },
  {
   "cell_type": "markdown",
   "metadata": {},
   "source": [
    "##### e) Add a new column called \"PetalPercentage\" to the data table, which is the percentage (0..100) of the PetalWidth to the PetalLength.  Express this as a percentage value out of 100."
   ]
  },
  {
   "cell_type": "code",
   "execution_count": 21,
   "metadata": {},
   "outputs": [
    {
     "data": {
      "text/html": [
       "<div>\n",
       "<style scoped>\n",
       "    .dataframe tbody tr th:only-of-type {\n",
       "        vertical-align: middle;\n",
       "    }\n",
       "\n",
       "    .dataframe tbody tr th {\n",
       "        vertical-align: top;\n",
       "    }\n",
       "\n",
       "    .dataframe thead th {\n",
       "        text-align: right;\n",
       "    }\n",
       "</style>\n",
       "<table border=\"1\" class=\"dataframe\">\n",
       "  <thead>\n",
       "    <tr style=\"text-align: right;\">\n",
       "      <th></th>\n",
       "      <th>sepal.length</th>\n",
       "      <th>sepal.width</th>\n",
       "      <th>petal.length</th>\n",
       "      <th>petal.width</th>\n",
       "      <th>variety</th>\n",
       "      <th>PetalPercentage</th>\n",
       "    </tr>\n",
       "  </thead>\n",
       "  <tbody>\n",
       "    <tr>\n",
       "      <th>0</th>\n",
       "      <td>5.1</td>\n",
       "      <td>3.5</td>\n",
       "      <td>1.4</td>\n",
       "      <td>0.2</td>\n",
       "      <td>Setosa</td>\n",
       "      <td>14.285714</td>\n",
       "    </tr>\n",
       "    <tr>\n",
       "      <th>1</th>\n",
       "      <td>4.9</td>\n",
       "      <td>3.0</td>\n",
       "      <td>1.4</td>\n",
       "      <td>0.2</td>\n",
       "      <td>Setosa</td>\n",
       "      <td>14.285714</td>\n",
       "    </tr>\n",
       "    <tr>\n",
       "      <th>2</th>\n",
       "      <td>4.7</td>\n",
       "      <td>3.2</td>\n",
       "      <td>1.3</td>\n",
       "      <td>0.2</td>\n",
       "      <td>Setosa</td>\n",
       "      <td>15.384615</td>\n",
       "    </tr>\n",
       "    <tr>\n",
       "      <th>3</th>\n",
       "      <td>4.6</td>\n",
       "      <td>3.1</td>\n",
       "      <td>1.5</td>\n",
       "      <td>0.2</td>\n",
       "      <td>Setosa</td>\n",
       "      <td>13.333333</td>\n",
       "    </tr>\n",
       "    <tr>\n",
       "      <th>4</th>\n",
       "      <td>5.0</td>\n",
       "      <td>3.6</td>\n",
       "      <td>1.4</td>\n",
       "      <td>0.2</td>\n",
       "      <td>Setosa</td>\n",
       "      <td>14.285714</td>\n",
       "    </tr>\n",
       "  </tbody>\n",
       "</table>\n",
       "</div>"
      ],
      "text/plain": [
       "   sepal.length  sepal.width  petal.length  petal.width variety  \\\n",
       "0           5.1          3.5           1.4          0.2  Setosa   \n",
       "1           4.9          3.0           1.4          0.2  Setosa   \n",
       "2           4.7          3.2           1.3          0.2  Setosa   \n",
       "3           4.6          3.1           1.5          0.2  Setosa   \n",
       "4           5.0          3.6           1.4          0.2  Setosa   \n",
       "\n",
       "   PetalPercentage  \n",
       "0        14.285714  \n",
       "1        14.285714  \n",
       "2        15.384615  \n",
       "3        13.333333  \n",
       "4        14.285714  "
      ]
     },
     "execution_count": 21,
     "metadata": {},
     "output_type": "execute_result"
    }
   ],
   "source": [
    "#(2e): \n",
    "cal=(df[\"petal.width\"]/df[\"petal.length\"])*100\n",
    "df[\"PetalPercentage\"]=cal\n",
    "df.head()"
   ]
  },
  {
   "cell_type": "markdown",
   "metadata": {},
   "source": [
    "# Question 3: Pandas Explanations [10 marks]\n",
    "\n",
    "##### Write a sentence to explain each of the following Pandas DataFrame functions.  \n",
    "\n",
    "##### They are shown applied to a dataframe called 'df'.\n"
   ]
  },
  {
   "cell_type": "markdown",
   "metadata": {},
   "source": [
    "###### a) df.columns"
   ]
  },
  {
   "cell_type": "raw",
   "metadata": {},
   "source": [
    "(3a):It will print all the column names in the dataset. "
   ]
  },
  {
   "cell_type": "markdown",
   "metadata": {},
   "source": [
    "###### b) df.shape"
   ]
  },
  {
   "cell_type": "raw",
   "metadata": {},
   "source": [
    "(3b): df.shape will give number shape of the database which means it gives number of rows and column in the database."
   ]
  },
  {
   "cell_type": "markdown",
   "metadata": {},
   "source": [
    "###### c) df.describe()"
   ]
  },
  {
   "cell_type": "raw",
   "metadata": {},
   "source": [
    "(3c):this calculate mean, count the number of records,maximum and minimum values.standard deviation and five number summary."
   ]
  },
  {
   "cell_type": "markdown",
   "metadata": {},
   "source": [
    "###### d) df.head()"
   ]
  },
  {
   "cell_type": "raw",
   "metadata": {},
   "source": [
    "(3d): It shows top five rows, column names of the database"
   ]
  },
  {
   "cell_type": "markdown",
   "metadata": {},
   "source": [
    "###### e) df.count()"
   ]
  },
  {
   "cell_type": "raw",
   "metadata": {},
   "source": [
    "(3e): this counts number of records that is number of rows in database."
   ]
  },
  {
   "cell_type": "markdown",
   "metadata": {},
   "source": [
    "# Question 4: Machine Learning Process [20 marks]"
   ]
  },
  {
   "cell_type": "markdown",
   "metadata": {},
   "source": [
    "##### a) Explain the typical process you would follow to use machine learning in python to predict the level of monthly sales for a business.  \n",
    "#####    Give a number and a title for each of the steps that you would take, and briefly explain each step. [10 marks]\n",
    "#####    eg: 1. import ??? function"
   ]
  },
  {
   "cell_type": "raw",
   "metadata": {},
   "source": [
    "4a) linear regression can be used to predict molnthly sales levels\n",
    "1. import sklearn functions\n",
    "from sklearn import linear_model\n",
    "from sklearn.metrics import mean_squared_error, r2_score\n",
    "from sklearn.model_selection import train_test_split\n",
    "2. load the dataset or read from csv file \n",
    "df=read_csv(\"filename.csv\")\n",
    "\n",
    "3. split the dataset into testing and training data using train_test_split\n",
    "this will divide database into 80% training that that is used in model and 20% test data that is used to check the accuracy of the model.\n",
    "X_train and X_test has all the other columns ie input attributes while y_test,y_train will have target column ie output, in this case taget is monthly sales.\n",
    "\n",
    "X_train, X_test, y_train, y_test = train_test_split(df.data,df.target,test_size=0.2,random_state=1)\n",
    "4. Create a linear regression classifier object\n",
    "l_reg= linear_model.LinearRegression()\n",
    "\n",
    "5. fit the trainig data to the model, used to learn from data \n",
    "l_reg.fit(X_train,y_train)\n",
    "\n",
    "6. predict the outcome\n",
    "y_predict = l_reg.predict(X_test)\n",
    "\n",
    "7. calculate the accuracy of the model used to check how accuratly the model is working \n",
    "mse = mean_squared_error(y_test,y_predict )\n",
    "r2 = r2_score(y_test, y_predict)\n",
    "print(\"Mean squared error: {:.2f}\".format(mse))\n",
    "print(\"Variance score: {:.2f}\".format(r2))\n"
   ]
  },
  {
   "cell_type": "markdown",
   "metadata": {},
   "source": [
    "##### b)  Develop some example Python code that you would use to implement the above steps using a Decision Tree model and the inbuilt iris dataset.   [10 marks] "
   ]
  },
  {
   "cell_type": "code",
   "execution_count": 27,
   "metadata": {},
   "outputs": [
    {
     "data": {
      "text/plain": [
       "0.9666666666666667"
      ]
     },
     "execution_count": 27,
     "metadata": {},
     "output_type": "execute_result"
    }
   ],
   "source": [
    "# 4b)\n",
    "import pandas as pd\n",
    "from sklearn.tree import DecisionTreeClassifier\n",
    "from sklearn.model_selection import train_test_split\n",
    "from sklearn.metrics import accuracy_score\n",
    "from sklearn import datasets\n",
    "iris_csv = \"https://damskii.github.io/ICT706-dataset/iris.csv\"\n",
    "df = pd.read_csv(iris_csv)\n",
    "df.head()\n",
    "\n",
    "iris = datasets.load_iris()\n",
    "\n",
    "X_train, X_test, y_train, y_test = train_test_split(iris.data, iris.target,test_size=0.2,random_state=1)\n",
    "dt = DecisionTreeClassifier(max_depth=3)\n",
    "dt.fit(X_train, y_train)\n",
    "y_pred = dt.predict(X_test)\n",
    "accy = accuracy_score(y_test, y_pred)\n",
    "accy"
   ]
  },
  {
   "cell_type": "markdown",
   "metadata": {},
   "source": [
    "# Question 5: Machine Learning Algorithms [15 marks]\n",
    "##### There are many different types of machine learning algorithms.  Explain the following groups of algorithms, and name one example algorithm in each group."
   ]
  },
  {
   "cell_type": "markdown",
   "metadata": {},
   "source": [
    "##### a) Clustering algorithms"
   ]
  },
  {
   "cell_type": "raw",
   "metadata": {},
   "source": [
    "(5a):it is combine similar data into a cluster. Each cluster data point is similar to other data points in the cluster and different cluster have diferent set of points.it produces patterns of data in dataset. it used Euclidean distance and other problem specific measures to find clusters. points within cluster are closer while distance between points of different clusters is more.\n",
    "types of cluster: \n",
    "1.partitioning clusters divide data into non-over lapping subsets so that each point belong to only one cluster. \n",
    "2.Hierarchical Clustering divide data into set of nested clusters as hierarchical tree\n",
    "we can change number of clusters in alogratims should identify which help in detecting various angels in patters.\n",
    "example:KMean clustering"
   ]
  },
  {
   "cell_type": "markdown",
   "metadata": {},
   "source": [
    "##### b) Regression algorithms"
   ]
  },
  {
   "cell_type": "raw",
   "metadata": {},
   "source": [
    "(5b): in this set of attributes  are used to predict a class attribute ie other attributes are function of class attribute\n",
    "Class=f(Other attributes)\n",
    "output in regression algortihms is continous value. it is used in predictive modelling and is a type of supervised learning.\n",
    "example: linear regression, support vector regression"
   ]
  },
  {
   "cell_type": "markdown",
   "metadata": {},
   "source": [
    "##### c) Classification algorithms"
   ]
  },
  {
   "cell_type": "raw",
   "metadata": {},
   "source": [
    "(5c): in classification algorithm class attribute is a discrete value. it can be yes,no etc. it is used in predictive modelling and is a type of supervised learning.\n",
    "eg:pictures of dog and cats are labeled and used to test other images to identify it is a dog or cat.\n",
    "example: Decision trees, Bayes Classifier"
   ]
  },
  {
   "cell_type": "markdown",
   "metadata": {},
   "source": [
    "# Question 6: Supervised vs Unsupervised [15 marks]"
   ]
  },
  {
   "cell_type": "markdown",
   "metadata": {},
   "source": [
    "###### a) Explain the difference between supervised and unsupervised machine learning.  [5 marks]"
   ]
  },
  {
   "cell_type": "raw",
   "metadata": {},
   "source": [
    "(6a):\n",
    "supervised learning: it is used to predict outcomes baesd on present data.In suppervised lerning a machine learning model is fed with data with different attributes with is used to predict a target attribute.It creates a relationship between Y(target) and X(OTHER attributes such that Y is given by X, if X changes value of Y will also change.\n",
    "Y=f(X)\n",
    "it is of two types Classification and Regression.Empasise is given on predictive accuracy ather than understanding the model.it uses labelled data and are highly accurate. \n",
    "\n",
    "unsupervised learning: here unlabelled data is provided to the machine learning algorithm which detects information. there is no need to train the model, it detects patterns in dataset to combine similar values together in clusters.it is computationally more complex than supervised learning models and are less accurate as compared to supervised learning model."
   ]
  },
  {
   "cell_type": "markdown",
   "metadata": {},
   "source": [
    "###### b) Give a business example where supervised learning would be appropriate. [5 marks]"
   ]
  },
  {
   "cell_type": "raw",
   "metadata": {},
   "source": [
    "(6b): decision tree and linear regressions are type of supervised learning they can beused for:\n",
    "Credit card fraud detection\n",
    "Marketing and sales optimization\n",
    "Predict user future needs\n",
    "Predict user behaviour\n",
    "Predicting tumor cells as benign or malignant\n",
    "Science exploration\n"
   ]
  },
  {
   "cell_type": "markdown",
   "metadata": {},
   "source": [
    "###### c) Give a business example where unsupervised learning would be appropriate. [5 marks]"
   ]
  },
  {
   "cell_type": "raw",
   "metadata": {},
   "source": [
    "(6c): clustering is a type of unsupervised learning and unsupervised learning can be used for:\n",
    "\n",
    "Market Segmentation:Subdivide customers into distinct groups for targeted market promotions and services\n",
    "Genetic study:Group genes and proteins that have similar functionality\n",
    "Document Clustering:Find groups of documents that are similar to each other based on the terms in them\n",
    "Stock analysis:Find stock groups that go up or down together\n",
    "\n"
   ]
  },
  {
   "cell_type": "markdown",
   "metadata": {},
   "source": [
    "# Question 7: Evaluation of Models [20 marks]\n",
    "#####  ReadItNow is an online company that loans e-books via subscription with prices as 10/month, or 120/year).  \n",
    "##### They want to analyse their customer base, and their 'churn rates' (customers who decide to stop subscribing to their service).\n",
    "##### The following confusion matrix shows the results of applying a Decision Tree machine learning algorithm to 1000 historical examples of customer churn from the previous year.\n",
    "\n",
    "##### The columns show whether the customer did really leave ('Churn') or stay ('Not Churn').  The rows show the prediction output from the learned Decision Tree model.\n"
   ]
  },
  {
   "cell_type": "markdown",
   "metadata": {},
   "source": [
    "\n",
    "|                     |         __Churn__       |     __Not Churn__    |\n",
    "|:-------------------:|:-------------:|:----------:|\n",
    "| __Model predicted YES__ |         400         |       100       |\n",
    "| __Model predicted NO__  |         200         |       300         |\n"
   ]
  },
  {
   "cell_type": "markdown",
   "metadata": {},
   "source": [
    "##### Calculate the values of the following evaluation metrics for this model [2 marks each]:"
   ]
  },
  {
   "cell_type": "markdown",
   "metadata": {},
   "source": [
    "##### a) number of true positives?"
   ]
  },
  {
   "cell_type": "raw",
   "metadata": {},
   "source": [
    "7a)400"
   ]
  },
  {
   "cell_type": "markdown",
   "metadata": {},
   "source": [
    "##### b) number of false positives?"
   ]
  },
  {
   "cell_type": "raw",
   "metadata": {},
   "source": [
    "7b)100"
   ]
  },
  {
   "cell_type": "markdown",
   "metadata": {},
   "source": [
    "##### c) accuracy?  (show your calculations)"
   ]
  },
  {
   "cell_type": "raw",
   "metadata": {},
   "source": [
    "7c) accuracy=(400+300)/(400+200+100+300)\n",
    "=700/1000\n",
    "=0.7"
   ]
  },
  {
   "cell_type": "markdown",
   "metadata": {},
   "source": [
    "##### d) precision? (show your calculations)"
   ]
  },
  {
   "cell_type": "raw",
   "metadata": {},
   "source": [
    "7d) precision= 400/(400+100)\n",
    "=400/500\n",
    "=0.8"
   ]
  },
  {
   "cell_type": "markdown",
   "metadata": {},
   "source": [
    "##### e) recall? (show your calculations)"
   ]
  },
  {
   "cell_type": "raw",
   "metadata": {},
   "source": [
    "7e)recall=400/(400+200)\n",
    "=400/600\n",
    "=0.66"
   ]
  },
  {
   "cell_type": "markdown",
   "metadata": {},
   "source": [
    "##### ReadItNow is considering using this model as the basis a new marketing campaign to better retain their existing customers.  \n",
    "##### They will send special offers to all the people that the model predicts Yes (that is, the customers that are in danger of 'churning' away from ReadItNow).  \n",
    "##### The cost of these discounts will average $10 per customer, but it is expected that it will halve the churn rate, which will save on average half of the annual subscription of each customer who is persuaded not to churn.  \n",
    "##### The following cost-benefit matrix summarises the annual costs in dollars and expected benefits of this campaign for each group of customers.  "
   ]
  },
  {
   "cell_type": "markdown",
   "metadata": {},
   "source": [
    "\n",
    "|                     |         __Churn__       |     __Not Churn__    |\n",
    "|:-------------------:|:-------------:|:----------:|\n",
    "| __Model predicted YES__    |             ¾ * 120 - 10  = 80             |         120 - 10 = 110       |\n",
    "| __Model predicted NO__     |         120/2=60         |       120         |"
   ]
  },
  {
   "cell_type": "markdown",
   "metadata": {},
   "source": [
    "##### f) Calculate the expected income after this marketing campaign?  Show your working. [4 marks]"
   ]
  },
  {
   "cell_type": "raw",
   "metadata": {},
   "source": [
    "7f)income=400*80+200*60+100*110+300*120\n",
    "=32000+12000+11000+3600\n",
    "=91000"
   ]
  },
  {
   "cell_type": "markdown",
   "metadata": {},
   "source": [
    "##### The cost-benefit matrix for the next year WITHOUT the marketing campaign is:"
   ]
  },
  {
   "cell_type": "markdown",
   "metadata": {},
   "source": [
    "\n",
    "|                     |         __Churn__       |     __Not Churn__    |\n",
    "|:-------------------:|:-------------:|:----------:|\n",
    "| __Model predicted YES__    |            120/2=60             |         120       |\n",
    "| __Model predicted NO__     |         120/2=60         |       120         |"
   ]
  },
  {
   "cell_type": "markdown",
   "metadata": {},
   "source": [
    "##### g) Calculate the expected annual income WITHOUT the marketing campaign. [4 marks]"
   ]
  },
  {
   "cell_type": "raw",
   "metadata": {},
   "source": [
    "7g)income_without_camp=400*60+200*60+100*120+300*120\n",
    "=24000+12000+12000+36000\n",
    "=84000"
   ]
  },
  {
   "cell_type": "markdown",
   "metadata": {},
   "source": [
    "##### h) Would you recommend that ReadItNow goes ahead with the marketing campaign? Explain your reason.  [2 marks]"
   ]
  },
  {
   "cell_type": "raw",
   "metadata": {},
   "source": [
    "7h) yes, i would recommend them to go for te marketing campaign because it will help them not loose thier custmer moreover will they will profit if they give discount to potential customers that can chunk away. they will make 91000 dollars in a year with the help off campain."
   ]
  },
  {
   "cell_type": "markdown",
   "metadata": {},
   "source": [
    "# EXAM END"
   ]
  }
 ],
 "metadata": {
  "kernelspec": {
   "display_name": "Python 3",
   "language": "python",
   "name": "python3"
  },
  "language_info": {
   "codemirror_mode": {
    "name": "ipython",
    "version": 3
   },
   "file_extension": ".py",
   "mimetype": "text/x-python",
   "name": "python",
   "nbconvert_exporter": "python",
   "pygments_lexer": "ipython3",
   "version": "3.8.2"
  }
 },
 "nbformat": 4,
 "nbformat_minor": 2
}
